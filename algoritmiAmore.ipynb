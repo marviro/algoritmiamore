{
  "nbformat": 4,
  "nbformat_minor": 0,
  "metadata": {
    "colab": {
      "provenance": [],
      "authorship_tag": "ABX9TyMVsJeXB4G5UEw3ZEsch5k/",
      "include_colab_link": true
    },
    "kernelspec": {
      "name": "python3",
      "display_name": "Python 3"
    },
    "language_info": {
      "name": "python"
    }
  },
  "cells": [
    {
      "cell_type": "markdown",
      "metadata": {
        "id": "view-in-github",
        "colab_type": "text"
      },
      "source": [
        "<a href=\"https://colab.research.google.com/github/marviro/algoritmiamore/blob/main/algoritmiAmore.ipynb\" target=\"_parent\"><img src=\"https://colab.research.google.com/assets/colab-badge.svg\" alt=\"Open In Colab\"/></a>"
      ]
    },
    {
      "cell_type": "markdown",
      "source": [
        "# Algoritmi dell'amore\n",
        "\n",
        "Questo programma intende dimostrare che cos'è un algoritmo e le questioni culturali e sociali alla base delle scelte algoritmiche.\n",
        "\n",
        "Situazione: in un gruppo di persone, vogliamo formare coppie che abbiano la massima probabilità di innamorarsi.\n",
        "\n",
        "Proporremo inizialmente un'idea particolare di amore, per poi cercare di pensarne altre e mostrare come, cambiando il modello discorsivo con cui si descrive l'amore, cambiano i risultati.\n",
        "\n",
        "## Modello discorsivo\n",
        "\n",
        "La prima cosa da fare è la modellazione discorsiva:\n",
        "\n",
        "Anche questa sarà realizzata in diverse fasi, dalla più generica alla più specifica.\n",
        "\n",
        "### Fase 1¶\n",
        "\n",
        "- supponiamo di avere 4 individui: A, B, C e D\n",
        "- questi individui hanno profili particolari\n",
        "- alcuni profili sono più compatibili di altri\n",
        "- la possibilità di innamorarsi dipende dal livello di **compatibilità**\n",
        "\n",
        "#### Descrizione dei profili:¶\n",
        "\n",
        "- A ama molto la lettura e la musica, è di sinistra, vive a Macerata e ha 20 anni.\n",
        "\n",
        "- B ama leggere ma solo in vacanza, ama la musica, non ha una posizione politica particolare, si considera un moderato, vive a Foligno, ha 32 anni.\n",
        "\n",
        "- C non ama leggere e non ama la musica, è molto coinvolto nel partito Fratelli d'Italia, ha 18 anni, vive a Macerata.\n",
        "\n",
        "- D ama leggere, non ama la musica, è anarchico, vive a Foligno, ha 40 anni.\n",
        "\n",
        "### Fase 2¶\n",
        "\n",
        "- un profilo è composto da diverse caratteristiche:\n",
        "  - interessi culturali\n",
        "  - orientamento politico\n",
        "  - posizione geografica\n",
        "  - età\n",
        "\n",
        "## Modello funzionale\n",
        "\n",
        "Passiamo quindi alla modellazione funzionale. Il passo successivo consiste nel \"digitalizzare\" questo modello rappresentativo.\n",
        "\n",
        "- variabile `intcult`: sottovariabili:\n",
        "  - `lettura`; valori da 1 a 10\n",
        "  - `musica`: valori da 1 a 10\n",
        "- variabile: `tendPol`; 3 possibili valori: destra, sinistra, centro\n",
        "- variabile `posGeo`: sottovariabili:\n",
        "  - `lat`: valori: latitudine\n",
        "  - `long`: valori: longitudine\n",
        "- variabile `anni`: valore: int\n",
        "\n",
        "### Descrizione dei profili\n",
        "\n",
        "A:\n",
        "\n",
        "    intcult:\n",
        "\n",
        "        lettura: 8\n",
        "\n",
        "        musica: 8\n",
        "\n",
        "    tendPol: sinistra\n",
        "\n",
        "    posGeo:\n",
        "\n",
        "        lat: 43.293578\n",
        "\n",
        "        long: 13.3781402\n",
        "\n",
        "    anni: 20\n",
        "\n",
        "B:\n",
        "\n",
        "    intcult:\n",
        "\n",
        "        lettura: 5\n",
        "\n",
        "        musica: 10\n",
        "\n",
        "    tendPol: centro\n",
        "\n",
        "    posGeo:\n",
        "\n",
        "        lat: 42.956111111111\n",
        "\n",
        "        long: 12.703333333333\n",
        "\n",
        "    anni: 32\n",
        "\n",
        "C:\n",
        "\n",
        "    intcult:\n",
        "\n",
        "        lettura: 0\n",
        "\n",
        "        musica: 0\n",
        "\n",
        "    tendPol: destra\n",
        "\n",
        "    posGeo:\n",
        "\n",
        "        lat: 43.293578\n",
        "\n",
        "        long: 13.3781402\n",
        "\n",
        "    anni: 18\n",
        "\n",
        "D:\n",
        "\n",
        "    intcult:\n",
        "\n",
        "        lettura: 10\n",
        "\n",
        "        musica: 0\n",
        "\n",
        "    tendPol: sinistra\n",
        "\n",
        "    posGeo:\n",
        "\n",
        "        lat: 42.956111111111\n",
        "\n",
        "        long: 12.703333333333\n",
        "\n",
        "    anni: 40\n",
        "\n",
        "## Descrizione dell'algoritmo:¶\n",
        "\n",
        "Per ogni valore degli interessi culturali, si calcola il divario tra due profili. Ad esempio, A lettura=8 e B lettura=5, il divario sarà il valore assoluto di lettura di A - lettura di B (8-5=3). Sommiamo quindi le due differenze per ottenere `scartocult`.\n",
        "\n",
        "Per la tendenza politica, assumiamo che sinistra = 0, centro = 5 e destra = 10 e consideriamo lo scarto. Sottraiamo la differenza e calcoliamo il valore assoluto come = `scartopol`\n",
        "\n",
        "    scartopos = distanza in chilometri divisa per 10\n",
        "\n",
        "    scartoanni = valore assoluto della sottrazione tra anni e anni\n",
        "\n",
        "    scartototale= somma di tutte gli scarti\n",
        "\n",
        "La probabilità di innamorarsi di una coppia sarà inversamente proporzionale a `scartototale`.\n",
        "\n",
        "Esempio A e B:\n",
        "\n",
        "    scartocult= scartoLect+scartoMus scartoLect=8-5=3 scartoMus= 8-10=2 scartocult=5\n",
        "    scartopol= 0-5=5\n",
        "    scartogeo= distanza/10\n",
        "    scartoanni: 32-20=12\n",
        "scartoTotale= 5+5+3.4768+12=25.\n",
        "\n",
        "## Modellizzazione fisica: implementazione in python"
      ],
      "metadata": {
        "id": "jXT_1GT8RiCK"
      }
    },
    {
      "cell_type": "code",
      "source": [
        "#una funzione per calcolare la distanza a partire dalle coordinate\n",
        "from math import radians, sin, cos, acos\n",
        "\n",
        "def distance(a,b,c,d):\n",
        "    slat = radians(float(a))\n",
        "    slon = radians(float(b))\n",
        "    elat = radians(float(c))\n",
        "    elon = radians(float(d))\n",
        "\n",
        "    dist = 6371.01 * acos(sin(slat)*sin(elat) + cos(slat)*cos(elat)*cos(slon - elon))\n",
        "    return dist"
      ],
      "metadata": {
        "id": "Z76AWxUeh96E"
      },
      "execution_count": 1,
      "outputs": []
    },
    {
      "cell_type": "code",
      "source": [
        "lat1=43.293578\n",
        "\n",
        "long1= 13.3781402\n",
        "\n",
        "lat2= 42.956111111111\n",
        "\n",
        "long2= 12.703333333333\n",
        "distance(lat1,long1,lat2,long2)"
      ],
      "metadata": {
        "colab": {
          "base_uri": "https://localhost:8080/"
        },
        "id": "C-_mE29qiFI5",
        "outputId": "13573db4-74fd-4d76-8f22-8acc5f0cac88"
      },
      "execution_count": 4,
      "outputs": [
        {
          "output_type": "execute_result",
          "data": {
            "text/plain": [
              "66.38771779708378"
            ]
          },
          "metadata": {},
          "execution_count": 4
        }
      ]
    },
    {
      "cell_type": "code",
      "source": [
        "import json\n",
        "A= '{\"lettura\":\"8\", \"musica\":\"8\", \"tendPol\":\"0\", \"lat\": \"43.293578\", \"long\":\"13.3781402\", \"anni\":\"20\", \"nome\": \"A\"}'\n",
        "B= '{\"lettura\":\"5\", \"musica\":\"10\", \"tendPol\":\"5\", \"lat\": \"42.956111111111\", \"long\":\"12.703333333333\", \"anni\":\"32\",\"nome\": \"B\"}'\n",
        "C= '{\"lettura\":\"0\", \"musica\":\"0\", \"tendPol\":\"10\", \"lat\": \"43.293578\", \"long\":\"13.3781402\", \"anni\":\"32\", \"nome\": \"C\"}'\n",
        "D= '{\"lettura\":\"10\", \"musica\":\"0\", \"tendPol\":\"0\", \"lat\": \"42.956111111111\", \"long\":\"12.703333333333\", \"anni\":\"40\", \"nome\": \"D\"}'\n",
        "# print(str(A))\n",
        "A=json.loads(str(A))\n",
        "B=json.loads(str(B))\n",
        "C=json.loads(str(C))\n",
        "D=json.loads(str(D))\n",
        "\n",
        "def scarto_AB(x,y):\n",
        "\n",
        "  scartocult_AB=abs(int(x['lettura'])-int(y['lettura']))+abs(int(x['musica'])-int(y['musica']))\n",
        "  scartopol_AB=abs(int(x['tendPol'])-int(y['tendPol']))\n",
        "  scartopos_AB=distance(x['lat'],x['long'],y['lat'],y['long'])/10\n",
        "  scartoanni_AB=abs(int(x['anni'])-int(y['anni']))\n",
        "  scartototale_AB=scartocult_AB + scartopol_AB + scartopos_AB + scartoanni_AB\n",
        "  print('scarto culturale: ' + str(scartocult_AB) +'\\n' + 'scarto politico: ' + str(scartopol_AB) + '\\n' + 'scarto geografico: ' + str(scartopos_AB) + '\\n' + 'scarto anni: ' + str(scartoanni_AB) + '\\n' )\n",
        "  print('Scarto totale: ')\n",
        "  print(str(scartototale_AB) + '\\n')\n",
        "  return(scartototale_AB)\n",
        "\n",
        "print('Scarto tra A et B \\n')\n",
        "scartoAB=scarto_AB(A,B)\n",
        "print('Scarto tra A et C \\n')\n",
        "scartoAC=scarto_AB(A,C)\n",
        "print('Scarto tra A et D \\n')\n",
        "scartoAD=scarto_AB(A,D)\n",
        "print('Scarto tra B et C \\n')\n",
        "scartoBC=scarto_AB(B,C)\n",
        "print('Scarto tra B et D \\n')\n",
        "scartoBD=scarto_AB(B,D)\n",
        "print('Scarto tra C et D \\n')\n",
        "scartoCD=scarto_AB(C,D)\n",
        "\n",
        "scartos=[scartoAD,scartoAC,scartoAD,scartoBC,scartoBD,scartoCD]"
      ],
      "metadata": {
        "colab": {
          "base_uri": "https://localhost:8080/"
        },
        "id": "2Ryk3TbkXaLj",
        "outputId": "a3a08497-9e84-44cf-ac0d-ea8a47c5446d"
      },
      "execution_count": 7,
      "outputs": [
        {
          "output_type": "stream",
          "name": "stdout",
          "text": [
            "Scarto tra A et B \n",
            "\n",
            "scarto culturale: 5\n",
            "scarto politico: 5\n",
            "scarto geografico: 6.638771779708378\n",
            "scarto anni: 12\n",
            "\n",
            "Scarto totale: \n",
            "28.638771779708378\n",
            "\n",
            "Scarto tra A et C \n",
            "\n",
            "scarto culturale: 16\n",
            "scarto politico: 10\n",
            "scarto geografico: 0.0\n",
            "scarto anni: 12\n",
            "\n",
            "Scarto totale: \n",
            "38.0\n",
            "\n",
            "Scarto tra A et D \n",
            "\n",
            "scarto culturale: 10\n",
            "scarto politico: 0\n",
            "scarto geografico: 6.638771779708378\n",
            "scarto anni: 20\n",
            "\n",
            "Scarto totale: \n",
            "36.63877177970838\n",
            "\n",
            "Scarto tra B et C \n",
            "\n",
            "scarto culturale: 15\n",
            "scarto politico: 5\n",
            "scarto geografico: 6.638771779708378\n",
            "scarto anni: 0\n",
            "\n",
            "Scarto totale: \n",
            "26.638771779708378\n",
            "\n",
            "Scarto tra B et D \n",
            "\n",
            "scarto culturale: 15\n",
            "scarto politico: 5\n",
            "scarto geografico: 0.0\n",
            "scarto anni: 8\n",
            "\n",
            "Scarto totale: \n",
            "28.0\n",
            "\n",
            "Scarto tra C et D \n",
            "\n",
            "scarto culturale: 10\n",
            "scarto politico: 10\n",
            "scarto geografico: 6.638771779708378\n",
            "scarto anni: 8\n",
            "\n",
            "Scarto totale: \n",
            "34.63877177970838\n",
            "\n"
          ]
        }
      ]
    },
    {
      "cell_type": "markdown",
      "source": [
        "## Un po' più elegante"
      ],
      "metadata": {
        "id": "Zhwo0iarYo2h"
      }
    },
    {
      "cell_type": "code",
      "source": [
        "lista= [A,B,C,D]\n",
        "import itertools\n",
        "listascarti=[]\n",
        "for i, i2 in itertools.combinations(lista, r=2):\n",
        "    scarto = scarto_AB(i,i2)\n",
        "    dictscarti = {'persona1': i, 'persona2':i2, 'scarto':scarto}\n",
        "    print(dictscarti)\n",
        "    listascarti.append(dictscarti)"
      ],
      "metadata": {
        "colab": {
          "base_uri": "https://localhost:8080/"
        },
        "id": "sVfWXRgaYHH4",
        "outputId": "c24acacd-e182-4146-8f8e-3f9aa9fdc83e"
      },
      "execution_count": 8,
      "outputs": [
        {
          "output_type": "stream",
          "name": "stdout",
          "text": [
            "scarto culturale: 5\n",
            "scarto politico: 5\n",
            "scarto geografico: 6.638771779708378\n",
            "scarto anni: 12\n",
            "\n",
            "Scarto totale: \n",
            "28.638771779708378\n",
            "\n",
            "{'persona1': {'lettura': '8', 'musica': '8', 'tendPol': '0', 'lat': '43.293578', 'long': '13.3781402', 'anni': '20', 'nome': 'A'}, 'persona2': {'lettura': '5', 'musica': '10', 'tendPol': '5', 'lat': '42.956111111111', 'long': '12.703333333333', 'anni': '32', 'nome': 'B'}, 'scarto': 28.638771779708378}\n",
            "scarto culturale: 16\n",
            "scarto politico: 10\n",
            "scarto geografico: 0.0\n",
            "scarto anni: 12\n",
            "\n",
            "Scarto totale: \n",
            "38.0\n",
            "\n",
            "{'persona1': {'lettura': '8', 'musica': '8', 'tendPol': '0', 'lat': '43.293578', 'long': '13.3781402', 'anni': '20', 'nome': 'A'}, 'persona2': {'lettura': '0', 'musica': '0', 'tendPol': '10', 'lat': '43.293578', 'long': '13.3781402', 'anni': '32', 'nome': 'C'}, 'scarto': 38.0}\n",
            "scarto culturale: 10\n",
            "scarto politico: 0\n",
            "scarto geografico: 6.638771779708378\n",
            "scarto anni: 20\n",
            "\n",
            "Scarto totale: \n",
            "36.63877177970838\n",
            "\n",
            "{'persona1': {'lettura': '8', 'musica': '8', 'tendPol': '0', 'lat': '43.293578', 'long': '13.3781402', 'anni': '20', 'nome': 'A'}, 'persona2': {'lettura': '10', 'musica': '0', 'tendPol': '0', 'lat': '42.956111111111', 'long': '12.703333333333', 'anni': '40', 'nome': 'D'}, 'scarto': 36.63877177970838}\n",
            "scarto culturale: 15\n",
            "scarto politico: 5\n",
            "scarto geografico: 6.638771779708378\n",
            "scarto anni: 0\n",
            "\n",
            "Scarto totale: \n",
            "26.638771779708378\n",
            "\n",
            "{'persona1': {'lettura': '5', 'musica': '10', 'tendPol': '5', 'lat': '42.956111111111', 'long': '12.703333333333', 'anni': '32', 'nome': 'B'}, 'persona2': {'lettura': '0', 'musica': '0', 'tendPol': '10', 'lat': '43.293578', 'long': '13.3781402', 'anni': '32', 'nome': 'C'}, 'scarto': 26.638771779708378}\n",
            "scarto culturale: 15\n",
            "scarto politico: 5\n",
            "scarto geografico: 0.0\n",
            "scarto anni: 8\n",
            "\n",
            "Scarto totale: \n",
            "28.0\n",
            "\n",
            "{'persona1': {'lettura': '5', 'musica': '10', 'tendPol': '5', 'lat': '42.956111111111', 'long': '12.703333333333', 'anni': '32', 'nome': 'B'}, 'persona2': {'lettura': '10', 'musica': '0', 'tendPol': '0', 'lat': '42.956111111111', 'long': '12.703333333333', 'anni': '40', 'nome': 'D'}, 'scarto': 28.0}\n",
            "scarto culturale: 10\n",
            "scarto politico: 10\n",
            "scarto geografico: 6.638771779708378\n",
            "scarto anni: 8\n",
            "\n",
            "Scarto totale: \n",
            "34.63877177970838\n",
            "\n",
            "{'persona1': {'lettura': '0', 'musica': '0', 'tendPol': '10', 'lat': '43.293578', 'long': '13.3781402', 'anni': '32', 'nome': 'C'}, 'persona2': {'lettura': '10', 'musica': '0', 'tendPol': '0', 'lat': '42.956111111111', 'long': '12.703333333333', 'anni': '40', 'nome': 'D'}, 'scarto': 34.63877177970838}\n"
          ]
        }
      ]
    },
    {
      "cell_type": "code",
      "source": [
        "nuovalista = sorted(listascarti, key=lambda k: k['scarto'])\n",
        "for p in nuovalista:\n",
        "    print('Scarto tra ' + p['persona1']['nome'] + ' e ' + p['persona2']['nome'] + ': ' +str(p['scarto']))\n",
        "\n"
      ],
      "metadata": {
        "colab": {
          "base_uri": "https://localhost:8080/"
        },
        "id": "oTtGS7p1Ydex",
        "outputId": "28c74454-9f43-4562-8471-4246bc73d530"
      },
      "execution_count": 9,
      "outputs": [
        {
          "output_type": "stream",
          "name": "stdout",
          "text": [
            "Scarto tra B e C: 26.638771779708378\n",
            "Scarto tra B e D: 28.0\n",
            "Scarto tra A e B: 28.638771779708378\n",
            "Scarto tra C e D: 34.63877177970838\n",
            "Scarto tra A e D: 36.63877177970838\n",
            "Scarto tra A e C: 38.0\n"
          ]
        }
      ]
    },
    {
      "cell_type": "code",
      "source": [],
      "metadata": {
        "id": "Z3RJztWUY_kq"
      },
      "execution_count": null,
      "outputs": []
    },
    {
      "cell_type": "markdown",
      "source": [
        "## E se facessimo un altra descrizione dell'amore?\n",
        "\n",
        "Avete notato che il genere non è stato preso in considerazione in questa modellizzazione? È importante? Non è importante? Può essere ponderato?\n",
        "\n",
        "E se la possibilità di innamorarsi dipendesse per esempio dalla complementarità? Come nell'idea di amore che propone Socrate nel _Simposio_?\n",
        "\n",
        "E se fosse completamente un'altra cosa?"
      ],
      "metadata": {
        "id": "E4MYZedbZFKL"
      }
    }
  ]
}